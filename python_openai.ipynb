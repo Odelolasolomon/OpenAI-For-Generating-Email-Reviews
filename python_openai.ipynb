{
 "cells": [
  {
   "cell_type": "markdown",
   "metadata": {},
   "source": [
    "In this project, you will use the OpenAI API to perform various image and text generation tasks. You will write code to utilize and experiment with the API.\n",
    "\n",
    "You will perform the following tasks using the OpenAI API:\n",
    "\n",
    "Email generation based on Amazon reviews using GPT-3.5\n",
    "Code generation using GPT-3.5\n",
    "Text summarization using GPT-3.5\n",
    "Image generation using DALL-E 3\n",
    "A Jupyter Notebook has been provided in the editor available on the right side of the workspace. Browse through the file tree and open the python_openai.ipynb notebook."
   ]
  },
  {
   "cell_type": "markdown",
   "metadata": {},
   "source": [
    "# Exploring OpenAI API"
   ]
  },
  {
   "cell_type": "markdown",
   "metadata": {},
   "source": [
    "Let’s start by importing the modules and packages required for completing this project.\n",
    "\n",
    "To complete this task, load the following modules and packages:\n",
    "\n",
    "openai: This package is used for accessing the OpenAI API.\n",
    "pandas: This package is used for handling tabular data.\n",
    "requests: This package is used for downloading files.\n",
    "datetime from datetime: This modules is required for getting the timestamp.\n",
    "pprint from pprint: This module is required for pretty printing text in python.\n",
    "tiktoken: This package is required for counting the number of tokens in a string.\n",
    "PdfReader from pypdf: This module is required for handling PDF files.\n",
    "Markdown, and display from IPython.display: These modules are required for loading and displaying markdown content in the notebook.\n",
    "os: This package is required to access operating system resources.\n",
    "pyplot and image from matplotlib: These modules are required for displaying images in the notebook."
   ]
  },
  {
   "cell_type": "markdown",
   "metadata": {},
   "source": [
    "## Task 1: Import Modules and Packages"
   ]
  },
  {
   "cell_type": "code",
   "execution_count": 7,
   "metadata": {},
   "outputs": [],
   "source": [
    "from openai import OpenAI\n",
    "import pandas as pd\n",
    "import requests\n",
    "from datetime import datetime\n",
    "from pprint import pprint\n",
    "import tiktoken\n",
    "from pypdf import PdfReader\n",
    "from IPython.display import Image, Markdown, display\n",
    "import os\n",
    "import matplotlib.pyplot as plt\n",
    "import matplotlib.image as mpimg"
   ]
  },
  {
   "cell_type": "markdown",
   "metadata": {},
   "source": [
    "## Task 2: Set the API Key"
   ]
  },
  {
   "cell_type": "markdown",
   "metadata": {},
   "source": [
    "In this task, you will set up your OpenAI account, get the API key, and set up the openai library to use this key.\n",
    "\n",
    "Do the following steps to complete this task:\n",
    "\n",
    "Get your OpenAI API key by following the instructions given in the Educative Answer, “How to get API Key for GPT-3.”\n",
    "Create the client for access to the OpenAI API and set the key.\n",
    "Run the second cell of this task in the notebook to set pandas to display the DataFrame properly, and create the function pp() to pretty print pandas tables."
   ]
  },
  {
   "cell_type": "code",
   "execution_count": 8,
   "metadata": {},
   "outputs": [],
   "source": [
    "\n",
    "client = OpenAI(api_key=\"<sk-HS50A6Zultspi37KKUOqW4y5s97YRBVERFaqIb2NlFT3BlbkFJyLpx4toF13tp7_aUacdHlu63MqY3RvLPrxakj93mcA>\")"
   ]
  },
  {
   "cell_type": "code",
   "execution_count": 9,
   "metadata": {},
   "outputs": [],
   "source": [
    "pd.set_option('display.max_colwidth', None)\n",
    "\n",
    "def pp(df):\n",
    "    return display( df.style.set_properties(subset=['emails'], **{'text-align': 'left', 'white-space': 'pre-wrap', 'width': '900px'}) ) "
   ]
  },
  {
   "cell_type": "markdown",
   "metadata": {
    "id": "QoHObb5Wrafl"
   },
   "source": [
    "## Task 3: Generate Emails for Reviews"
   ]
  },
  {
   "cell_type": "markdown",
   "metadata": {},
   "source": [
    "In this task, you will set up the model and configure it for email generation.\n",
    "\n",
    "For this section, consider that you are a data scientist at an e-commerce store. People shop at your store and leave reviews for the products they buy. In order to enhance the customer experience, you want to generate emails to each reviewer that include the following:\n",
    "\n",
    "Address the concerns expressed in the reviews.\n",
    "Thank the customers for their purchase.\n",
    "Encourage them to continue shopping.\n",
    "Let’s say you initially wanted to hire a team of customer support representatives to perform this task. However, when you created an estimate, it no longer looked like a viable option. So, you decided to use GPT-4 instead.\n",
    "\n",
    "To complete this task, use the following steps:\n",
    "\n",
    "Run the first cell to create a pandas DataFrame containing the reviews. These reviews are taken from various subsets of the Amazon reviews dataset.\n",
    "Write a function that generates an email to the customer when a review is provided as an input. Perform the following steps to do this:\n",
    "Create a chat transcript. This is a list of dictionaries, where each dictionary corresponds to a message of the chat. This dictionary has the following keys:\n",
    "\n",
    "role: This is either system, user, or assistant depending upon who the message is from.\n",
    "content: This is the text content of the message.\n",
    "Note: The system role is used to personalize the assistant. We can instruct the model to follow a methodology when creating responses here. We can also use it to add summaries of the chat to the chat history. The user role is used to add chat messages by the user to the chat history, and the assistant role is used to add the API responses to the chat history.\n",
    "\n",
    "Append a line to the input email, instructing the assistant to generate an email to address the user’s issues, and append it to the chat transcript.\n",
    "\n",
    "Use the client.chat.completions.create() method to generate a response from the API. This method takes the following parameters:\n",
    "\n",
    "model: The name of the model to use.\n",
    "messages: The chat transcript of the chat.\n",
    "Use the function defined above with the DataFrame.apply() method to populate the emails column, using the reviews column.\n",
    "Pretty-print the pandas DataFrame using the pp() method to display the reviews along with the generated emails."
   ]
  },
  {
   "cell_type": "code",
   "execution_count": 10,
   "metadata": {},
   "outputs": [
    {
     "data": {
      "text/html": [
       "<div>\n",
       "<style scoped>\n",
       "    .dataframe tbody tr th:only-of-type {\n",
       "        vertical-align: middle;\n",
       "    }\n",
       "\n",
       "    .dataframe tbody tr th {\n",
       "        vertical-align: top;\n",
       "    }\n",
       "\n",
       "    .dataframe thead th {\n",
       "        text-align: right;\n",
       "    }\n",
       "</style>\n",
       "<table border=\"1\" class=\"dataframe\">\n",
       "  <thead>\n",
       "    <tr style=\"text-align: right;\">\n",
       "      <th></th>\n",
       "      <th>reviews</th>\n",
       "      <th>emails</th>\n",
       "    </tr>\n",
       "  </thead>\n",
       "  <tbody>\n",
       "    <tr>\n",
       "      <th>0</th>\n",
       "      <td>Nice socks, great colors, just enough support for wearing with a good pair of sneakers.</td>\n",
       "      <td>NaN</td>\n",
       "    </tr>\n",
       "    <tr>\n",
       "      <th>1</th>\n",
       "      <td>Love Deborah Harness's Trilogy! Didn't want the story to end and hope they turn this trilogy into a movie. I would love it if she wrote more books to continue this story!!!</td>\n",
       "      <td>NaN</td>\n",
       "    </tr>\n",
       "    <tr>\n",
       "      <th>2</th>\n",
       "      <td>SO much quieter than other compressors. VERY quick as well. You will not regret this purchase.</td>\n",
       "      <td>NaN</td>\n",
       "    </tr>\n",
       "    <tr>\n",
       "      <th>3</th>\n",
       "      <td>Shirt a bit too long, with heavy hem, which inhibits turning over. I cut off the bottom two inches all around, and am now somewhat comfortable. Overall, material is a bit too heavy for my liking.</td>\n",
       "      <td>NaN</td>\n",
       "    </tr>\n",
       "    <tr>\n",
       "      <th>4</th>\n",
       "      <td>The quality on these speakers is insanely good and doesn't sound muddy when adjusting bass. Very happy with these.</td>\n",
       "      <td>NaN</td>\n",
       "    </tr>\n",
       "  </tbody>\n",
       "</table>\n",
       "</div>"
      ],
      "text/plain": [
       "                                                                                                                                                                                               reviews  \\\n",
       "0                                                                                                              Nice socks, great colors, just enough support for wearing with a good pair of sneakers.   \n",
       "1                         Love Deborah Harness's Trilogy! Didn't want the story to end and hope they turn this trilogy into a movie. I would love it if she wrote more books to continue this story!!!   \n",
       "2                                                                                                       SO much quieter than other compressors. VERY quick as well. You will not regret this purchase.   \n",
       "3  Shirt a bit too long, with heavy hem, which inhibits turning over. I cut off the bottom two inches all around, and am now somewhat comfortable. Overall, material is a bit too heavy for my liking.   \n",
       "4                                                                                   The quality on these speakers is insanely good and doesn't sound muddy when adjusting bass. Very happy with these.   \n",
       "\n",
       "  emails  \n",
       "0    NaN  \n",
       "1    NaN  \n",
       "2    NaN  \n",
       "3    NaN  \n",
       "4    NaN  "
      ]
     },
     "execution_count": 10,
     "metadata": {},
     "output_type": "execute_result"
    }
   ],
   "source": [
    "columns = ['reviews', 'emails']\n",
    "df = pd.DataFrame(columns=columns)\n",
    "df['reviews'] = [\n",
    "    \"Nice socks, great colors, just enough support for wearing with a good pair of sneakers.\",\n",
    "    \"Love Deborah Harness's Trilogy! Didn't want the story to end and hope they turn this trilogy into a movie. I would love it if she wrote more books to continue this story!!!\",\n",
    "    \"SO much quieter than other compressors. VERY quick as well. You will not regret this purchase.\",\n",
    "    \"Shirt a bit too long, with heavy hem, which inhibits turning over. I cut off the bottom two inches all around, and am now somewhat comfortable. Overall, material is a bit too heavy for my liking.\",\n",
    "    \"The quality on these speakers is insanely good and doesn't sound muddy when adjusting bass. Very happy with these.\",\n",
    "    \"Beautiful watch face. The band looks nice all around. The links do make that squeaky cheapo noise when you swing it back and forth on your wrist which can be embarrassing in front of watch enthusiasts. However, to the naked eye from afar, you can't tell the links are cheap or folded because it is well polished and brushed and the folds are pretty tight for the most part. love the new member of my collection and it looks great. I've had it for about a week and so far it has kept good time despite day 1 which is typical of a new mechanical watch.\"\n",
    "]\n",
    "df.head()"
   ]
  },
  {
   "cell_type": "code",
   "execution_count": null,
   "metadata": {},
   "outputs": [],
   "source": [
    "import openai\n",
    "\n",
    "# Initialize OpenAI client (assuming you have set up your API key)\n",
    "openai.api_key = 'sk-HS50A6Zultspi37KKUOqW4y5s97YRBVERFaqIb2NlFT3BlbkFJyLpx4toF13tp7_aUacdHlu63MqY3RvLPrxakj93mcA'\n",
    "\n",
    "# Define the initial chat context and postfix\n",
    "chat = [{\"role\": \"system\", \"content\": \"You are a polite customer support representative.\"}]\n",
    "postfix = \"\\n\\nWrite an email to customers to address the issues put forward in the above review, thank them if they write good comments, and encourage them to make further purchases. Do not give promotion codes or discounts to the customers. Do not recommend other products. Keep the emails short.\"\n",
    "\n",
    "def getMail(review):\n",
    "    chat_history = chat.copy()\n",
    "    chat_history.append({\"role\": \"user\", \"content\": review + postfix})\n",
    "    \n",
    "    # Generate a response from the OpenAI model\n",
    "    reply = openai.ChatCompletion.create(\n",
    "        model=\"gpt-3.5-turbo\",\n",
    "        messages=chat_history\n",
    "    )\n",
    "    \n",
    "    # Return the content of the response\n",
    "    return reply.choices[0].message['content']\n",
    "\n",
    "# Apply the function to each review in the DataFrame\n",
    "df['emails'] = df.apply(lambda x: getMail(x.reviews), axis=1)\n",
    "\n",
    "# Assuming 'pp' is a function to print or process the DataFrame\n",
    "pp(df)\n"
   ]
  },
  {
   "cell_type": "markdown",
   "metadata": {},
   "source": [
    "## Task 4: Generate Python Code"
   ]
  },
  {
   "cell_type": "code",
   "execution_count": null,
   "metadata": {},
   "outputs": [],
   "source": [
    "problems = [\n",
    "    \"primality testing\",\n",
    "    \"sum of unique elements\",\n",
    "    \"longest palindrome\",\n",
    "    \"all possible permutations of a string\",\n",
    "]"
   ]
  },
  {
   "cell_type": "code",
   "execution_count": null,
   "metadata": {},
   "outputs": [],
   "source": [
    "chat = [{\"role\": \"system\", \"content\": \"You are a computer programmer.\"}]\n",
    "prefix = \"Write Python code for finding the \"\n",
    "for problem in problems:\n",
    "  chat_history = chat.copy()\n",
    "  chat_history.append({\"role\":\"user\", \"content\":prefix+problem})\n",
    "\n",
    "  reply = client.chat.completions.create(\n",
    "      model=\"gpt-3.5-turbo-1106\",\n",
    "      messages=chat_history\n",
    "    )\n",
    "\n",
    "  print(problem.upper())\n",
    "  display(Markdown(reply.choices[0].message.content))"
   ]
  },
  {
   "cell_type": "markdown",
   "metadata": {
    "id": "umWrJv6EE6px"
   },
   "source": [
    "## Task 5: Summarize Text"
   ]
  },
  {
   "cell_type": "code",
   "execution_count": null,
   "metadata": {},
   "outputs": [],
   "source": [
    "def num_tokens_from_string(text, encoding_name):\n",
    "    encoding = tiktoken.get_encoding(encoding_name)\n",
    "    num_tokens = len(encoding.encode(text))\n",
    "    return num_tokens\n",
    "\n",
    "url = \"https://arxiv.org/pdf/1706.03762.pdf\"\n",
    "ppr_data = requests.get(url).content\n",
    "\n",
    "with open('paper.pdf', 'wb') as handler:\n",
    "    handler.write(ppr_data)\n",
    "\n",
    "\n",
    "reader = PdfReader(\"paper.pdf\")\n",
    "text = \"\"\n",
    "for page in reader.pages[:2]:\n",
    "    text += page.extract_text() + \"\\n\"\n",
    "\n",
    "print(num_tokens_from_string(text, 'cl100k_base'))"
   ]
  },
  {
   "cell_type": "code",
   "execution_count": null,
   "metadata": {},
   "outputs": [],
   "source": [
    "chat = [{\"role\": \"system\", \"content\": \"You are an experienced Machine Learning research writer.\"}]\n",
    "postfix = \"\\nSummarize the above research paper in 1000 words:\\n\"\n",
    "query = text + postfix\n",
    "chat.append({\"role\":\"user\", \"content\":query})\n",
    "\n",
    "reply1 = client.chat.completions.create(\n",
    "    model=\"gpt-3.5-turbo-1106\",\n",
    "    messages=chat\n",
    "    )\n",
    "\n",
    "display(Markdown(reply1.choices[0].message.content))"
   ]
  },
  {
   "cell_type": "markdown",
   "metadata": {
    "id": "lVstPP1JphQg"
   },
   "source": [
    "## Task 6: Generate Images"
   ]
  },
  {
   "cell_type": "code",
   "execution_count": null,
   "metadata": {},
   "outputs": [],
   "source": [
    "for i in range(1):\n",
    "    response = client.images.generate(\n",
    "      model=\"dall-e-3\",\n",
    "      prompt=\"technical line drawing of the f-35 5th generation stealth fighter. Show and highlight a single powerful turbo jet engine. Show a large slightly angled view and smaller front and side views\",\n",
    "      size=\"1792x1024\",\n",
    "      quality=\"hd\",\n",
    "      n=1,\n",
    "    )\n",
    "\n",
    "    display(Markdown(response.data[0].revised_prompt))\n",
    "\n",
    "    image_url = response.data[0].url\n",
    "    path='usercode/images'\n",
    "    os.makedirs(path, exist_ok=True) \n",
    "\n",
    "    name = path+'/'+str(datetime.now())\n",
    "    img_data = requests.get(image_url).content\n",
    "\n",
    "    with open(name+'.jpg', 'wb') as handler:\n",
    "        handler.write(img_data)\n",
    "\n",
    "    plt.figure(figsize=(11,9))\n",
    "    img = mpimg.imread(name+'.jpg')\n",
    "\n",
    "    imgplot = plt.imshow(img)\n",
    "    imgplot.axes.get_xaxis().set_visible(False)\n",
    "    imgplot.axes.get_yaxis().set_visible(False)\n",
    "    plt.show()"
   ]
  },
  {
   "cell_type": "markdown",
   "metadata": {},
   "source": [
    "# End"
   ]
  }
 ],
 "metadata": {
  "colab": {
   "provenance": []
  },
  "kernelspec": {
   "display_name": "Python 3",
   "language": "python",
   "name": "python3"
  },
  "language_info": {
   "codemirror_mode": {
    "name": "ipython",
    "version": 3
   },
   "file_extension": ".py",
   "mimetype": "text/x-python",
   "name": "python",
   "nbconvert_exporter": "python",
   "pygments_lexer": "ipython3",
   "version": "3.8.10"
  },
  "vscode": {
   "interpreter": {
    "hash": "e7370f93d1d0cde622a1f8e1c04877d8463912d04d973331ad4851f04de6915a"
   }
  }
 },
 "nbformat": 4,
 "nbformat_minor": 1
}
